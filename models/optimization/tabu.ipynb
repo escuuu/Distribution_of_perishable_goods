{
 "cells": [
  {
   "cell_type": "code",
   "execution_count": 1,
   "metadata": {},
   "outputs": [],
   "source": [
    "import pandas as pd\n",
    "import numpy as np\n",
    "import random\n",
    "import matplotlib.pyplot as plt"
   ]
  },
  {
   "cell_type": "code",
   "execution_count": 2,
   "metadata": {},
   "outputs": [],
   "source": [
    "df_location = pd.read_excel('../../python/df_location.xlsx')\n",
    "df_distance = pd.read_excel('../../python/df_distance_km.xlsx')\n",
    "df_vehicle = pd.read_excel('../../python/df_vehicle.xlsx')\n",
    "df_orders = pd.read_excel('../../python/df_orders.xlsx')"
   ]
  },
  {
   "cell_type": "code",
   "execution_count": 3,
   "metadata": {},
   "outputs": [],
   "source": [
    "clients_names = df_location['cliente'].to_list()\n",
    "clients_coords = df_location[['Latitud','Longitud']].to_numpy()\n",
    "\n",
    "clients = {name: coord for name, coord in zip(clients_names, clients_coords)}"
   ]
  },
  {
   "cell_type": "code",
   "execution_count": 4,
   "metadata": {},
   "outputs": [],
   "source": [
    "distances_matrix = df_distance.to_numpy()"
   ]
  },
  {
   "cell_type": "code",
   "execution_count": 5,
   "metadata": {},
   "outputs": [],
   "source": [
    "def calculate_route_distance(route, distance_matrix, cost_per_unit):\n",
    "    distance = 0\n",
    "    for i in range(len(route) - 1):\n",
    "        dist = distance_matrix[route[i]][route[i + 1]]\n",
    "        if dist == 0:\n",
    "            return float('inf')\n",
    "        distance += dist * cost_per_unit\n",
    "    return distance"
   ]
  },
  {
   "cell_type": "code",
   "execution_count": 6,
   "metadata": {},
   "outputs": [],
   "source": [
    "def is_valid_route(route, demandas, capacity):\n",
    "    total_demand = sum(demandas[cliente] for cliente in route)\n",
    "    return total_demand <= capacity"
   ]
  },
  {
   "cell_type": "code",
   "execution_count": 7,
   "metadata": {},
   "outputs": [],
   "source": [
    "def generate_valid_initial_routes(distance_matrix, num_vehiculos, almacen, demandas, capacidades):\n",
    "    clientes = [cliente for cliente in range(len(distance_matrix)) if cliente != almacen]\n",
    "    valid_routes_found = False\n",
    "    while not valid_routes_found:\n",
    "        random.shuffle(clientes)\n",
    "        routes = [[almacen] for _ in range(num_vehiculos)]\n",
    "        for cliente in clientes:\n",
    "            for route in routes:\n",
    "                if sum(demandas[r] for r in route) + demandas[cliente] <= capacidades[routes.index(route)]:\n",
    "                    route.append(cliente)\n",
    "                    break\n",
    "        for route in routes:\n",
    "            route.append(almacen)\n",
    "        if all(calculate_route_distance(route, distance_matrix, 1) != float('inf') for route in routes):\n",
    "            valid_routes_found = True\n",
    "    return routes\n"
   ]
  },
  {
   "cell_type": "code",
   "execution_count": 8,
   "metadata": {},
   "outputs": [],
   "source": [
    "def calculate_total_distance(routes, distance_matrix, costes):\n",
    "    total_distance = 0\n",
    "    for route, cost in zip(routes, costes):\n",
    "        total_distance += calculate_route_distance(route, distance_matrix, cost)\n",
    "    return total_distance"
   ]
  },
  {
   "cell_type": "code",
   "execution_count": 9,
   "metadata": {},
   "outputs": [],
   "source": [
    "def generate_vecinos_multiple(routes, almacen, demandas, capacidades):\n",
    "    neighbors = []\n",
    "    for i in range(len(routes)):\n",
    "        for j in range(len(routes)):\n",
    "            if i != j:\n",
    "                for k in range(1, len(routes[i]) - 1):\n",
    "                    for l in range(1, len(routes[j]) - 1):\n",
    "                        neighbor = [route[:] for route in routes]\n",
    "                        neighbor[i][k], neighbor[j][l] = neighbor[j][l], neighbor[i][k]\n",
    "                        if is_valid_route(neighbor[i], demandas, capacidades[i]) and is_valid_route(neighbor[j], demandas, capacidades[j]):\n",
    "                            neighbors.append(neighbor)\n",
    "    return neighbors"
   ]
  },
  {
   "cell_type": "code",
   "execution_count": 10,
   "metadata": {},
   "outputs": [],
   "source": [
    "def tabu_search_multiple_tsp(distance_matrix, initial_routes, max_iterations, tabu_size, almacen, costes, demandas, capacidades):\n",
    "    current_routes = initial_routes\n",
    "    best_routes = current_routes\n",
    "    best_distance = calculate_total_distance(current_routes, distance_matrix, costes)\n",
    "    tabu_list = []\n",
    "\n",
    "    for iteration in range(max_iterations):\n",
    "        neighbors = generate_vecinos_multiple(current_routes, almacen, demandas, capacidades)\n",
    "        evaluated_neighbors = [(neighbor, calculate_total_distance(neighbor, distance_matrix, costes)) for neighbor in neighbors if neighbor not in tabu_list]\n",
    "\n",
    "        if not evaluated_neighbors:\n",
    "            print(\"No se encontraron rutas válidas en esta iteración.\")\n",
    "            break\n",
    "\n",
    "        best_neighbor = min(evaluated_neighbors, key=lambda x: x[1])\n",
    "        current_routes = best_neighbor[0]\n",
    "\n",
    "        tabu_list.append(current_routes)\n",
    "        if len(tabu_list) > tabu_size:\n",
    "            tabu_list.pop(0)\n",
    "\n",
    "        if best_neighbor[1] < best_distance:\n",
    "            best_routes = current_routes\n",
    "            best_distance = best_neighbor[1]\n",
    "\n",
    "    return best_routes, best_distance\n"
   ]
  },
  {
   "cell_type": "code",
   "execution_count": 11,
   "metadata": {},
   "outputs": [],
   "source": [
    "def convert_routes_to_city_names(routes, city_names):\n",
    "    return [[city_names[city] for city in route] for route in routes]"
   ]
  },
  {
   "cell_type": "code",
   "execution_count": null,
   "metadata": {},
   "outputs": [],
   "source": [
    "almacen = len(clients_names) - 1\n",
    "num_vehicles = 5\n",
    "costes = df_vehicle['costo_km'].to_list()\n",
    "capacidades = df_vehicle['capacidad_kg'].to_list()\n",
    "\n",
    "demandas_dict = dict(zip(df_orders[\"cliente\"], df_orders[\"order_demand\"]))\n",
    "demandas = [demandas_dict.get(client, 0) for client in clients_names]\n",
    "\n",
    "initial_routes = generate_valid_initial_routes(distances_matrix, num_vehicles, almacen, demandas, capacidades)\n",
    "print(initial_routes)\n",
    "max_iterations = 500\n",
    "tabu_size = 5\n",
    "\n",
    "# # Ejecutar Tabú Search para múltiples viajeros\n",
    "best_routes, best_distance = tabu_search_multiple_tsp(distances_matrix, initial_routes, max_iterations, tabu_size, almacen, costes, demandas, capacidades)\n",
    "\n",
    "# # Convertir rutas a nombres de ciudades\n",
    "best_routes_named = convert_routes_to_city_names(best_routes, clients_names)\n",
    "\n",
    "print(f\"\\nMejores rutas encontradas: {best_routes_named}, Costo total: {best_distance}\")\n"
   ]
  }
 ],
 "metadata": {
  "kernelspec": {
   "display_name": "Python 3",
   "language": "python",
   "name": "python3"
  },
  "language_info": {
   "codemirror_mode": {
    "name": "ipython",
    "version": 3
   },
   "file_extension": ".py",
   "mimetype": "text/x-python",
   "name": "python",
   "nbconvert_exporter": "python",
   "pygments_lexer": "ipython3",
   "version": "3.12.6"
  }
 },
 "nbformat": 4,
 "nbformat_minor": 2
}
